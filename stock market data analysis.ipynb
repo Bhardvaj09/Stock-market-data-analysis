{
 "cells": [
  {
   "cell_type": "code",
   "execution_count": null,
   "id": "9c9f3ea8",
   "metadata": {},
   "outputs": [],
   "source": [
    "import pandas as pd\n",
    "import matplotlib.pyplot as plt\n",
    "from tqdm import tqdm\n",
    "\n",
    "# Load the data\n",
    "df = pd.read_csv('stocks.csv')\n",
    "\n",
    "# Display the first few rows of the dataframe\n",
    "print(df.head())\n",
    "print(df.describe())"
   ]
  },
  {
   "cell_type": "markdown",
   "id": "b7e87153",
   "metadata": {},
   "source": [
    "\n",
    "Next, let's proceed with the following steps for a comprehensive analysis:\n",
    "1. **Data Cleaning**: Check for missing values and handle them.\n",
    "2. **Data Transformation**: Convert the 'Date' column to datetime format.\n",
    "3. **Exploratory Data Analysis (EDA)**: Visualize the data to understand trends and patterns.\n",
    "4. **Statistical Analysis**: Calculate key metrics like moving averages.\n",
    "5. **Visualization**: Create plots to visualize the stock performance.\n",
    "\n",
    "Let's start with data cleaning and transformation."
   ]
  },
  {
   "cell_type": "code",
   "execution_count": null,
   "id": "ebe31846",
   "metadata": {},
   "outputs": [],
   "source": [
    "# Data Cleaning and Transformation\n",
    "\n",
    "df['Date'] = pd.to_datetime(df['Date'])\n",
    "\n",
    "# Check for missing values\n",
    "missing_values = df.isnull().sum()\n",
    "print('Missing values in each column:')\n",
    "print(missing_values)\n"
   ]
  },
  {
   "cell_type": "markdown",
   "id": "4d058ed1",
   "metadata": {},
   "source": [
    "\n",
    "\n",
    "Next, let's proceed with exploratory data analysis (EDA) and visualization. We'll start by plotting the closing prices over time for a general overview."
   ]
  },
  {
   "cell_type": "code",
   "execution_count": null,
   "id": "9fddb239",
   "metadata": {},
   "outputs": [],
   "source": [
    "# Exploratory Data Analysis (EDA) and Visualization\n",
    "\n",
    "plt.figure(figsize=(12, 6), facecolor='white')\n",
    "plt.plot(df['Date'], df['Close'], label='Close Price')\n",
    "plt.xlabel('Date')\n",
    "plt.ylabel('Close Price')\n",
    "plt.title('Stock Closing Prices Over Time')\n",
    "plt.legend()\n",
    "plt.grid(True)\n",
    "plt.show()"
   ]
  },
  {
   "cell_type": "markdown",
   "id": "48b3391e",
   "metadata": {},
   "source": [
    "**ai_message:**\n",
    "\n",
    "Here is the plot of the stock closing prices over time:\n",
    "\n",
    "![Stock Closing Prices Over Time](https://api.chatwithyourdata.io/images/e6b1c68f-6db4-45d4-abe8-45f91ae3238f.png)\n",
    "\n",
    "Next, let's calculate and visualize some key metrics like moving averages. We'll calculate the 20-day and 50-day moving averages and plot them along with the closing prices."
   ]
  },
  {
   "cell_type": "code",
   "execution_count": null,
   "id": "f3496a82",
   "metadata": {},
   "outputs": [],
   "source": [
    "# Calculate moving averages\n",
    "\n",
    "df['20_MA'] = df['Close'].rolling(window=20).mean()\n",
    "df['50_MA'] = df['Close'].rolling(window=50).mean()\n",
    "\n",
    "# Plot closing prices and moving averages\n",
    "plt.figure(figsize=(12, 6), facecolor='white')\n",
    "plt.plot(df['Date'], df['Close'], label='Close Price')\n",
    "plt.plot(df['Date'], df['20_MA'], label='20-Day MA')\n",
    "plt.plot(df['Date'], df['50_MA'], label='50-Day MA')\n",
    "plt.xlabel('Date')\n",
    "plt.ylabel('Price')\n",
    "plt.title('Stock Closing Prices and Moving Averages')\n",
    "plt.legend()\n",
    "plt.grid(True)\n",
    "plt.show()"
   ]
  },
  {
   "cell_type": "markdown",
   "id": "76e8a645",
   "metadata": {},
   "source": [
    "**ai_message:**\n",
    "\n",
    "Here is the plot of the stock closing prices along with the 20-day and 50-day moving averages:\n",
    "\n",
    "![Stock Closing Prices and Moving Averages](https://api.chatwithyourdata.io/images/fa469523-6b3c-4614-87b4-d457cf7275be.png)\n",
    "\n",
    "Next, let's perform some statistical analysis and visualize the trading volume over time."
   ]
  },
  {
   "cell_type": "code",
   "execution_count": null,
   "id": "d53c347b",
   "metadata": {},
   "outputs": [],
   "source": [
    "# Plot trading volume over time\n",
    "plt.figure(figsize=(12, 6), facecolor='white')\n",
    "plt.bar(df['Date'], df['Volume'], label='Volume', color='orange')\n",
    "plt.xlabel('Date')\n",
    "plt.ylabel('Volume')\n",
    "plt.title('Trading Volume Over Time')\n",
    "plt.legend()\n",
    "plt.grid(True)\n",
    "plt.show()"
   ]
  },
  {
   "cell_type": "markdown",
   "id": "3b461132",
   "metadata": {},
   "source": [
    "\n",
    "### Summary of Analysis\n",
    "1. **Data Cleaning**: No missing values were found.\n",
    "2. **Data Transformation**: Converted the 'Date' column to datetime format.\n",
    "3. **Exploratory Data Analysis (EDA)**:\n",
    "   - Plotted the closing prices over time.\n",
    "   - Calculated and plotted the 20-day and 50-day moving averages.\n",
    "   - Visualized the trading volume over time.\n",
    "\n",
    "If you need any further analysis or specific insights, please let me know!"
   ]
  }
 ],
 "metadata": {
  "language_info": {
   "name": "python"
  }
 },
 "nbformat": 4,
 "nbformat_minor": 5
}
